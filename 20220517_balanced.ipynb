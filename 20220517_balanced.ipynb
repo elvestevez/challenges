{
 "cells": [
  {
   "cell_type": "code",
   "execution_count": 7,
   "id": "0bd2baf2",
   "metadata": {},
   "outputs": [],
   "source": [
    "def balanced_num(number):\n",
    "    \n",
    "    s=str(number)\n",
    "    Leftsum = 0\n",
    "    Rightsum = 0\n",
    "        \n",
    "    if len(s)<3:\n",
    "        return \"Balanced\"\n",
    " \n",
    "    for pos in range(len(s)//2):\n",
    "\n",
    "        if (len(s)%2)==0:\n",
    "            if(pos<len(s)//2-1):\n",
    "                Leftsum = Leftsum + int(s[pos])\n",
    "                Rightsum = Rightsum + int(s[len(s)-1-pos])\n",
    "        else:\n",
    "            if(pos<len(s)//2):\n",
    "                Leftsum = Leftsum + int(s[pos])\n",
    "                Rightsum = Rightsum + int(s[len(s)-1-pos])\n",
    "        \n",
    "    if (Leftsum == Rightsum):\n",
    "        return \"Balanced\"\n",
    "    else:\n",
    "        return \"Not Balanced\""
   ]
  },
  {
   "cell_type": "code",
   "execution_count": 8,
   "id": "16052140",
   "metadata": {},
   "outputs": [
    {
     "data": {
      "text/plain": [
       "'Balanced'"
      ]
     },
     "execution_count": 8,
     "metadata": {},
     "output_type": "execute_result"
    }
   ],
   "source": [
    "balanced_num(1)"
   ]
  },
  {
   "cell_type": "code",
   "execution_count": 9,
   "id": "18a153d4",
   "metadata": {},
   "outputs": [
    {
     "data": {
      "text/plain": [
       "'Balanced'"
      ]
     },
     "execution_count": 9,
     "metadata": {},
     "output_type": "execute_result"
    }
   ],
   "source": [
    "balanced_num(12)"
   ]
  },
  {
   "cell_type": "code",
   "execution_count": 10,
   "id": "f4464f08",
   "metadata": {},
   "outputs": [
    {
     "data": {
      "text/plain": [
       "'Not Balanced'"
      ]
     },
     "execution_count": 10,
     "metadata": {},
     "output_type": "execute_result"
    }
   ],
   "source": [
    "balanced_num(123)"
   ]
  },
  {
   "cell_type": "code",
   "execution_count": 11,
   "id": "435b2cae",
   "metadata": {},
   "outputs": [
    {
     "data": {
      "text/plain": [
       "'Balanced'"
      ]
     },
     "execution_count": 11,
     "metadata": {},
     "output_type": "execute_result"
    }
   ],
   "source": [
    "balanced_num(543215621)"
   ]
  },
  {
   "cell_type": "code",
   "execution_count": 12,
   "id": "5afdf7fd",
   "metadata": {},
   "outputs": [
    {
     "data": {
      "text/plain": [
       "'Balanced'"
      ]
     },
     "execution_count": 12,
     "metadata": {},
     "output_type": "execute_result"
    }
   ],
   "source": [
    "balanced_num(3334562236)"
   ]
  },
  {
   "cell_type": "code",
   "execution_count": 13,
   "id": "d72f17cf",
   "metadata": {},
   "outputs": [
    {
     "data": {
      "text/plain": [
       "'Not Balanced'"
      ]
     },
     "execution_count": 13,
     "metadata": {},
     "output_type": "execute_result"
    }
   ],
   "source": [
    "balanced_num(111122111)"
   ]
  },
  {
   "cell_type": "code",
   "execution_count": 22,
   "id": "6c5edd0b",
   "metadata": {},
   "outputs": [
    {
     "name": "stdout",
     "output_type": "stream",
     "text": [
      "Balanced\n",
      "Balanced\n",
      "Balanced\n",
      "Not Balanced\n",
      "Balanced\n",
      "Not Balanced\n",
      "Not Balanced\n",
      "Not Balanced\n",
      "Not Balanced\n",
      "Balanced\n"
     ]
    }
   ],
   "source": [
    "print(balanced_num(7)  ) # \"Balanced\"\n",
    "print(balanced_num(959)) # \"Balanced\"\n",
    "print(balanced_num(13) ) # \"Balanced\"\n",
    "print(balanced_num(432)) # \"Not Balanced\"\n",
    "print(balanced_num(424)) # \"Balanced\"\n",
    "print(balanced_num(1024)    ) # \"Not Balanced\"\n",
    "print(balanced_num(66545)   ) # \"Not Balanced\"\n",
    "print(balanced_num(295591)  ) # \"Not Balanced\"\n",
    "print(balanced_num(1230987) ) # \"Not Balanced\"\n",
    "print(balanced_num(56239814)) # \"Balanced\""
   ]
  }
 ],
 "metadata": {
  "kernelspec": {
   "display_name": "Python [conda env:m1_ih]",
   "language": "python",
   "name": "conda-env-m1_ih-py"
  },
  "language_info": {
   "codemirror_mode": {
    "name": "ipython",
    "version": 3
   },
   "file_extension": ".py",
   "mimetype": "text/x-python",
   "name": "python",
   "nbconvert_exporter": "python",
   "pygments_lexer": "ipython3",
   "version": "3.9.12"
  }
 },
 "nbformat": 4,
 "nbformat_minor": 5
}
