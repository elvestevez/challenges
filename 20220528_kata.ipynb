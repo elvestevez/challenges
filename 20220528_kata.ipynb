{
 "cells": [
  {
   "cell_type": "markdown",
   "id": "784aafe4",
   "metadata": {},
   "source": [
    "## Kata 28/05/2022"
   ]
  },
  {
   "cell_type": "markdown",
   "id": "e49466ca",
   "metadata": {},
   "source": [
    "#### english"
   ]
  },
  {
   "cell_type": "code",
   "execution_count": 2,
   "id": "0bcb9767",
   "metadata": {},
   "outputs": [],
   "source": [
    "def sp_eng(sentence):\n",
    "    return \"english\" in sentence.lower()"
   ]
  },
  {
   "cell_type": "markdown",
   "id": "f9703213",
   "metadata": {},
   "source": [
    "#### domain"
   ]
  },
  {
   "cell_type": "code",
   "execution_count": 37,
   "id": "6a1e8c37",
   "metadata": {},
   "outputs": [],
   "source": [
    "def domain_name(url):\n",
    "    url_clean = url.replace(\"http://\",\"\").replace(\"https://\",\"\").replace(\"www.\",\"\")\n",
    "    domain = url_clean.split('.')[0]\n",
    "    return domain"
   ]
  },
  {
   "cell_type": "code",
   "execution_count": 40,
   "id": "e524fb9d",
   "metadata": {},
   "outputs": [
    {
     "name": "stdout",
     "output_type": "stream",
     "text": [
      "google\n"
     ]
    }
   ],
   "source": [
    "print(domain_name(\"www.google.com\"))"
   ]
  },
  {
   "cell_type": "code",
   "execution_count": 42,
   "id": "2a957fd0",
   "metadata": {},
   "outputs": [],
   "source": [
    "def domain_name2(url):\n",
    "    print(url.split(\"//\")[-1])\n",
    "    return url.split(\"//\")[-1].split(\"www.\")[-1].split(\".\")[0]"
   ]
  },
  {
   "cell_type": "code",
   "execution_count": 48,
   "id": "f15c1836",
   "metadata": {},
   "outputs": [
    {
     "name": "stdout",
     "output_type": "stream",
     "text": [
      "htt....p:.google.com\n",
      "htt\n"
     ]
    }
   ],
   "source": [
    "print(domain_name2(\"htt....p:.google.com\"))"
   ]
  }
 ],
 "metadata": {
  "kernelspec": {
   "display_name": "Python [conda env:m1_ih]",
   "language": "python",
   "name": "conda-env-m1_ih-py"
  },
  "language_info": {
   "codemirror_mode": {
    "name": "ipython",
    "version": 3
   },
   "file_extension": ".py",
   "mimetype": "text/x-python",
   "name": "python",
   "nbconvert_exporter": "python",
   "pygments_lexer": "ipython3",
   "version": "3.9.12"
  }
 },
 "nbformat": 4,
 "nbformat_minor": 5
}
