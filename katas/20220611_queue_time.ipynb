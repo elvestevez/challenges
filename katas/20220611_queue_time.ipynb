{
 "cells": [
  {
   "cell_type": "code",
   "execution_count": 22,
   "id": "e0dc5372",
   "metadata": {},
   "outputs": [
    {
     "name": "stdout",
     "output_type": "stream",
     "text": [
      "10\n",
      "[10, 2]\n",
      "10\n",
      "13\n",
      "[3, 3]\n",
      "3\n"
     ]
    }
   ],
   "source": [
    "customers = [10,2,3,3]\n",
    "n = 2\n",
    "time = 0\n",
    "dif = 0\n",
    "list_customers = []\n",
    "\n",
    "if len(customers) <= n:\n",
    "    time = max(customers)\n",
    "else:\n",
    "    for i in range(0, len(customers), n): \n",
    "        list_customers.append(customers[i:i + n])\n",
    "    for i in list_customers:\n",
    "        time += max(i)\n",
    "        print(time)\n",
    "        print(i)\n",
    "        print(max(i))"
   ]
  },
  {
   "cell_type": "code",
   "execution_count": 29,
   "id": "f9ced916",
   "metadata": {},
   "outputs": [],
   "source": [
    "def queue_time(customers, n):\n",
    "    tills = [0]*n\n",
    "    for i in customers:\n",
    "        tills[0] += i\n",
    "        tills = sorted(tills)\n",
    "    return tills[-1]"
   ]
  },
  {
   "cell_type": "code",
   "execution_count": 36,
   "id": "4e298259",
   "metadata": {},
   "outputs": [
    {
     "name": "stdout",
     "output_type": "stream",
     "text": [
      "10\n",
      "0\n",
      "5\n",
      "2\n",
      "15\n",
      "5\n",
      "9\n"
     ]
    }
   ],
   "source": [
    "print(queue_time([10,2,3,3], 2)) #10\n",
    "print(queue_time([], 1)) # 0\n",
    "print(queue_time([5], 1)) # 5\n",
    "print(queue_time([2], 5)) # 2\n",
    "print(queue_time([1,2,3,4,5], 1)) #  15\n",
    "print(queue_time([1,2,3,4,5], 100)) #  5\n",
    "print(queue_time([2,2,3,3,4,4], 2)) #  9"
   ]
  }
 ],
 "metadata": {
  "kernelspec": {
   "display_name": "Python [conda env:m1_ih]",
   "language": "python",
   "name": "conda-env-m1_ih-py"
  },
  "language_info": {
   "codemirror_mode": {
    "name": "ipython",
    "version": 3
   },
   "file_extension": ".py",
   "mimetype": "text/x-python",
   "name": "python",
   "nbconvert_exporter": "python",
   "pygments_lexer": "ipython3",
   "version": "3.9.12"
  }
 },
 "nbformat": 4,
 "nbformat_minor": 5
}
