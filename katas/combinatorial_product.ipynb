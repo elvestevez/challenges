{
 "cells": [
  {
   "cell_type": "code",
   "execution_count": 1,
   "id": "ad6c5530",
   "metadata": {},
   "outputs": [],
   "source": [
    "import itertools\n",
    "import numpy as np\n"
   ]
  },
  {
   "cell_type": "code",
   "execution_count": 2,
   "id": "932d6e31",
   "metadata": {},
   "outputs": [],
   "source": [
    "def eval_prod_sum(arr, num_fact, num_add, max_val):\n",
    "    # check parameters\n",
    "    if len([i for i in arr if not isinstance(i, int)]) > 0:\n",
    "        return 'Error. Unexpected entries'\n",
    "    if isinstance(num_fact, int) != True or isinstance(num_add, int) != True or isinstance(max_val, int) != True:\n",
    "        return 'Error. Unexpected entries'\n",
    "    if num_fact <= 0 or num_add <= 0:\n",
    "        return 'Error. Unexpected entries'\n",
    "\n",
    "    # calculate list factor elements\n",
    "    if len(arr) < num_fact:\n",
    "        return 'Error. Number of factors too high'\n",
    "    lst_factor = [np.prod(i) for i in list(itertools.combinations(arr, num_fact))]\n",
    "    \n",
    "    # calculate list sum elements\n",
    "    if len(lst_factor) < num_add:\n",
    "        return 'Error. Number of addens too high'\n",
    "    lst_add = [sum(i) for i in list(itertools.combinations(lst_factor, num_add))]\n",
    "    \n",
    "    # check result with max\n",
    "    equals_max = 0\n",
    "    greater_max = 0\n",
    "    less_max = 0\n",
    "    for i in lst_add:\n",
    "        if i == max_val:\n",
    "            equals_max += 1\n",
    "        elif i < max_val:\n",
    "            less_max += 1\n",
    "        elif i > max_val:\n",
    "            greater_max += 1\n",
    "    \n",
    "    return [{f\"Below than {max_val}\" : less_max},\n",
    "            {f\"Equals to {max_val}\"  : equals_max},\n",
    "            {f\"Higher than {max_val}\": greater_max}]"
   ]
  },
  {
   "cell_type": "code",
   "execution_count": 3,
   "id": "808ca22b",
   "metadata": {},
   "outputs": [],
   "source": [
    "def check_parameters(arr, num_fact, num_add, max_val):\n",
    "    # check parameters\n",
    "    if len([i for i in arr if not isinstance(i, int)]) > 0:\n",
    "        raise ValueError\n",
    "    if isinstance(num_fact, int) != True or isinstance(num_add, int) != True or isinstance(max_val, int) != True:\n",
    "        raise ValueError\n",
    "    if num_fact <= 0 or num_add <= 0:\n",
    "        raise ValueError\n"
   ]
  },
  {
   "cell_type": "code",
   "execution_count": 4,
   "id": "d6155a02",
   "metadata": {},
   "outputs": [],
   "source": [
    "def check_combinators(arr, num_fact):\n",
    "    if len(arr) < num_fact:\n",
    "        raise ValueError\n",
    "        "
   ]
  },
  {
   "cell_type": "code",
   "execution_count": 5,
   "id": "05c6c2dd",
   "metadata": {},
   "outputs": [],
   "source": [
    "def check_results(lst_add, max_val):\n",
    "    # check result with max\n",
    "    equals_max = 0\n",
    "    greater_max = 0\n",
    "    less_max = 0\n",
    "    for i in lst_add:\n",
    "        if i == max_val:\n",
    "            equals_max += 1\n",
    "        elif i < max_val:\n",
    "            less_max += 1\n",
    "        elif i > max_val:\n",
    "            greater_max += 1\n",
    "    return equals_max, greater_max, less_max\n"
   ]
  },
  {
   "cell_type": "code",
   "execution_count": 6,
   "id": "567517aa",
   "metadata": {},
   "outputs": [],
   "source": [
    "def eval_prod_sum(arr, num_fact, num_add, max_val):\n",
    "    # check parameters\n",
    "    try:\n",
    "        check_parameters(arr, num_fact, num_add, max_val)\n",
    "    except ValueError:\n",
    "        return 'Error. Unexpected entries'\n",
    "    \n",
    "    # calculate list factor elements\n",
    "    try:\n",
    "        check_combinators(arr, num_fact)\n",
    "    except ValueError:\n",
    "        return 'Error. Number of factors too high'\n",
    "    lst_factor = [np.prod(i) for i in list(itertools.combinations(arr, num_fact))]\n",
    "    \n",
    "    # calculate list sum elements\n",
    "    try:\n",
    "        check_combinators(lst_factor, num_add)\n",
    "    except ValueError:\n",
    "        return 'Error. Number of addens too high'\n",
    "    lst_add = [sum(i) for i in list(itertools.combinations(lst_factor, num_add))]\n",
    "    \n",
    "    # check result with max\n",
    "    equals_max, greater_max, less_max = check_results(lst_add, max_val)\n",
    "    \n",
    "    return [{f\"Below than {max_val}\" : less_max},\n",
    "            {f\"Equals to {max_val}\"  : equals_max},\n",
    "            {f\"Higher than {max_val}\": greater_max}]"
   ]
  },
  {
   "cell_type": "code",
   "execution_count": 7,
   "id": "b4488ae1",
   "metadata": {},
   "outputs": [
    {
     "data": {
      "text/plain": [
       "[{'Below than 8': 0}, {'Equals to 8': 0}, {'Higher than 8': 6}]"
      ]
     },
     "execution_count": 7,
     "metadata": {},
     "output_type": "execute_result"
    }
   ],
   "source": [
    "result = eval_prod_sum([2, 10, 20, 15], 3, 2, 8)\n",
    "result"
   ]
  },
  {
   "cell_type": "code",
   "execution_count": 8,
   "id": "1252bafb",
   "metadata": {},
   "outputs": [
    {
     "data": {
      "text/plain": [
       "'Error. Unexpected entries'"
      ]
     },
     "execution_count": 8,
     "metadata": {},
     "output_type": "execute_result"
    }
   ],
   "source": [
    "result = eval_prod_sum([2, '10', 20, 15], 3, 2, 8)\n",
    "result"
   ]
  },
  {
   "cell_type": "code",
   "execution_count": 9,
   "id": "af2bd229",
   "metadata": {},
   "outputs": [
    {
     "data": {
      "text/plain": [
       "[{'Below than 8': 6}, {'Equals to 8': 0}, {'Higher than 8': 0}]"
      ]
     },
     "execution_count": 9,
     "metadata": {},
     "output_type": "execute_result"
    }
   ],
   "source": [
    "result = eval_prod_sum([2, 10, -20, 15], 3, 2, 8)\n",
    "result"
   ]
  },
  {
   "cell_type": "code",
   "execution_count": 10,
   "id": "2fab2fee",
   "metadata": {},
   "outputs": [
    {
     "data": {
      "text/plain": [
       "'Error. Unexpected entries'"
      ]
     },
     "execution_count": 10,
     "metadata": {},
     "output_type": "execute_result"
    }
   ],
   "source": [
    "result = eval_prod_sum(['2', 10, -20, 15], 3, 2, 8)\n",
    "result"
   ]
  },
  {
   "cell_type": "code",
   "execution_count": 11,
   "id": "ed5ab987",
   "metadata": {},
   "outputs": [
    {
     "data": {
      "text/plain": [
       "'Error. Unexpected entries'"
      ]
     },
     "execution_count": 11,
     "metadata": {},
     "output_type": "execute_result"
    }
   ],
   "source": [
    "result = eval_prod_sum([-2, 10, '20', 15], 3, 2, 8)\n",
    "result"
   ]
  },
  {
   "cell_type": "code",
   "execution_count": 12,
   "id": "a0b54c28",
   "metadata": {},
   "outputs": [
    {
     "data": {
      "text/plain": [
       "'Error. Number of factors too high'"
      ]
     },
     "execution_count": 12,
     "metadata": {},
     "output_type": "execute_result"
    }
   ],
   "source": [
    "result = eval_prod_sum([2, 10, 20, 15], 6, 2, 8)\n",
    "result"
   ]
  },
  {
   "cell_type": "code",
   "execution_count": 13,
   "id": "91a68264",
   "metadata": {},
   "outputs": [
    {
     "data": {
      "text/plain": [
       "'Error. Unexpected entries'"
      ]
     },
     "execution_count": 13,
     "metadata": {},
     "output_type": "execute_result"
    }
   ],
   "source": [
    "result = eval_prod_sum([2, 10, 20, 15], -2, 2, 8)\n",
    "result"
   ]
  },
  {
   "cell_type": "code",
   "execution_count": 14,
   "id": "2e0949d1",
   "metadata": {},
   "outputs": [
    {
     "data": {
      "text/plain": [
       "'Error. Unexpected entries'"
      ]
     },
     "execution_count": 14,
     "metadata": {},
     "output_type": "execute_result"
    }
   ],
   "source": [
    "result = eval_prod_sum([2, 10, 20, 15], 2, -3, 8)\n",
    "result"
   ]
  },
  {
   "cell_type": "code",
   "execution_count": 15,
   "id": "9b80eaea",
   "metadata": {},
   "outputs": [
    {
     "data": {
      "text/plain": [
       "'Error. Number of addens too high'"
      ]
     },
     "execution_count": 15,
     "metadata": {},
     "output_type": "execute_result"
    }
   ],
   "source": [
    "result = eval_prod_sum([2, 10, 20, 15], 2, 7, 8)\n",
    "result"
   ]
  },
  {
   "cell_type": "code",
   "execution_count": 16,
   "id": "d6018b09",
   "metadata": {},
   "outputs": [
    {
     "data": {
      "text/plain": [
       "'Error. Unexpected entries'"
      ]
     },
     "execution_count": 16,
     "metadata": {},
     "output_type": "execute_result"
    }
   ],
   "source": [
    "result = eval_prod_sum([2, 10, 20, 15], '2', 7, 8)\n",
    "result"
   ]
  },
  {
   "cell_type": "code",
   "execution_count": 17,
   "id": "7ce24125",
   "metadata": {},
   "outputs": [
    {
     "data": {
      "text/plain": [
       "'Error. Unexpected entries'"
      ]
     },
     "execution_count": 17,
     "metadata": {},
     "output_type": "execute_result"
    }
   ],
   "source": [
    "result = eval_prod_sum([2, 10, 20, 15], 2, '7', 8)\n",
    "result"
   ]
  },
  {
   "cell_type": "code",
   "execution_count": 18,
   "id": "d799a2a9",
   "metadata": {},
   "outputs": [
    {
     "data": {
      "text/plain": [
       "'Error. Unexpected entries'"
      ]
     },
     "execution_count": 18,
     "metadata": {},
     "output_type": "execute_result"
    }
   ],
   "source": [
    "result = eval_prod_sum([2, 10, 20, 15], 2, 7, '8')\n",
    "result"
   ]
  },
  {
   "cell_type": "code",
   "execution_count": 25,
   "id": "627b3d8c",
   "metadata": {},
   "outputs": [
    {
     "data": {
      "text/plain": [
       "[{'Below than -100': 0}, {'Equals to -100': 0}, {'Higher than -100': 20}]"
      ]
     },
     "execution_count": 25,
     "metadata": {},
     "output_type": "execute_result"
    }
   ],
   "source": [
    "result = eval_prod_sum([2, 10, 20, 15], 2, 3, -100)\n",
    "result"
   ]
  },
  {
   "cell_type": "code",
   "execution_count": null,
   "id": "8bdebc41",
   "metadata": {},
   "outputs": [],
   "source": []
  },
  {
   "cell_type": "code",
   "execution_count": null,
   "id": "9f167b92",
   "metadata": {},
   "outputs": [],
   "source": []
  },
  {
   "cell_type": "code",
   "execution_count": 19,
   "id": "44a16a56",
   "metadata": {},
   "outputs": [],
   "source": [
    "lst = [2, 10, 20, 15]\n",
    "num_fact = 3\n",
    "num_add = 2\n",
    "max_val = 8\n"
   ]
  },
  {
   "cell_type": "code",
   "execution_count": 20,
   "id": "6bf03ad0",
   "metadata": {},
   "outputs": [
    {
     "data": {
      "text/plain": [
       "[400, 300, 600, 3000]"
      ]
     },
     "execution_count": 20,
     "metadata": {},
     "output_type": "execute_result"
    }
   ],
   "source": [
    "lst_factor = [np.prod(i) for i in list(itertools.combinations(lst, num_fact))]\n",
    "lst_factor\n"
   ]
  },
  {
   "cell_type": "code",
   "execution_count": 21,
   "id": "3578684c",
   "metadata": {},
   "outputs": [
    {
     "data": {
      "text/plain": [
       "[700, 1000, 3400, 900, 3300, 3600]"
      ]
     },
     "execution_count": 21,
     "metadata": {},
     "output_type": "execute_result"
    }
   ],
   "source": [
    "lst_add = [sum(i) for i in list(itertools.combinations(lst_factor, num_add))]\n",
    "lst_add\n"
   ]
  },
  {
   "cell_type": "code",
   "execution_count": 22,
   "id": "6caa6a48",
   "metadata": {},
   "outputs": [],
   "source": [
    "equals_max = 0\n",
    "greater_max = 0\n",
    "less_max = 0\n"
   ]
  },
  {
   "cell_type": "code",
   "execution_count": 23,
   "id": "a6716c9b",
   "metadata": {},
   "outputs": [
    {
     "name": "stdout",
     "output_type": "stream",
     "text": [
      "0 0 6\n"
     ]
    }
   ],
   "source": [
    "for i in lst_add:\n",
    "    if i == max_val:\n",
    "        equals_max += 1\n",
    "    elif i < max_val:\n",
    "        less_max += 1\n",
    "    elif i > max_val:\n",
    "        greater_max += 1\n",
    "\n",
    "print(equals_max, less_max, greater_max)\n"
   ]
  },
  {
   "cell_type": "code",
   "execution_count": null,
   "id": "c2a96145",
   "metadata": {},
   "outputs": [],
   "source": []
  },
  {
   "cell_type": "code",
   "execution_count": null,
   "id": "951ecd0d",
   "metadata": {},
   "outputs": [],
   "source": []
  },
  {
   "cell_type": "markdown",
   "id": "6211bf66",
   "metadata": {},
   "source": [
    "### Solución clase"
   ]
  },
  {
   "cell_type": "code",
   "execution_count": null,
   "id": "c39bdfcb",
   "metadata": {},
   "outputs": [],
   "source": [
    "def adds(val):  \n",
    "    res = 0 \n",
    "    for ele in val:  \n",
    "        res += ele  \n",
    "    return res"
   ]
  },
  {
   "cell_type": "code",
   "execution_count": null,
   "id": "c706b0c5",
   "metadata": {},
   "outputs": [],
   "source": [
    "def prod(val):  \n",
    "    res = 1 \n",
    "    for ele in val:  \n",
    "        res *= ele  \n",
    "    return res"
   ]
  },
  {
   "cell_type": "code",
   "execution_count": null,
   "id": "320807e0",
   "metadata": {},
   "outputs": [],
   "source": [
    "def combs(arr, num_fact):\n",
    "    comb = combinations(arr, num_fact)\n",
    "    return list(comb)"
   ]
  },
  {
   "cell_type": "code",
   "execution_count": null,
   "id": "578683f5",
   "metadata": {},
   "outputs": [],
   "source": [
    "def eval_prod_sum(arr, num_fact, num_add, max_val):\n",
    "    values = [num_fact, num_add, max_val]\n",
    "    if any(isinstance(val, (str, float, str, list, dict, tuple)) for val in arr):\n",
    "        return \"Error. Unexpected entries\"\n",
    "    elif any(isinstance(val, (str, float, str, list, dict, tuple)) or val == 0 or val < 0 for val in values):\n",
    "        return \"Error. Unexpected entries\"\n",
    "    elif num_fact > len(arr):\n",
    "        return \"Error. Number of factors too high\"\n",
    "    elif num_add > len(combs(arr, num_fact)):\n",
    "        return \"Error. Number of addens too high\"\n",
    "    else:\n",
    "        comb1 = combs(arr, num_fact)\n",
    "        addens = [prod(list(i)) for i in comb1]\n",
    "        comb2 = combs(addens, num_add)\n",
    "        sums = [adds(list(i)) for i in comb2]\n",
    "        count1 = 0\n",
    "        count2 = 0\n",
    "        count3 = 0\n",
    "        for e in sums:\n",
    "            if e < max_val:\n",
    "                count1 += 1\n",
    "            elif e == max_val:\n",
    "                count2 += 1\n",
    "            elif e > max_val:\n",
    "                count3 += 1\n",
    "    return [{\"Below than \" + str(max_val): count1},\n",
    "            {\"Equals to \" + str(max_val): count2},\n",
    "            {\"Higher than \" + str(max_val): count3}]"
   ]
  }
 ],
 "metadata": {
  "kernelspec": {
   "display_name": "Python [conda env:m2_ih]",
   "language": "python",
   "name": "conda-env-m2_ih-py"
  },
  "language_info": {
   "codemirror_mode": {
    "name": "ipython",
    "version": 3
   },
   "file_extension": ".py",
   "mimetype": "text/x-python",
   "name": "python",
   "nbconvert_exporter": "python",
   "pygments_lexer": "ipython3",
   "version": "3.9.12"
  }
 },
 "nbformat": 4,
 "nbformat_minor": 5
}
