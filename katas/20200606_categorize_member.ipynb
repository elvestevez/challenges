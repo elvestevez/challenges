{
 "cells": [
  {
   "cell_type": "code",
   "execution_count": 18,
   "id": "7167c0d7",
   "metadata": {},
   "outputs": [],
   "source": [
    "def open_or_senior(data):\n",
    "    return [\"Senior\" if i[0] >= 55 and i[1] > 7 else \"Open\" for i in data]"
   ]
  },
  {
   "cell_type": "code",
   "execution_count": 19,
   "id": "27c8ab72",
   "metadata": {},
   "outputs": [
    {
     "name": "stdout",
     "output_type": "stream",
     "text": [
      "['Open', 'Senior', 'Open', 'Senior']\n",
      "['Open', 'Open', 'Senior', 'Open']\n"
     ]
    }
   ],
   "source": [
    "print(open_or_senior([(45, 12),(55,21),(19, -2),(104, 20)])) # ['Open', 'Senior', 'Open', 'Senior']\n",
    "print(open_or_senior([(16, 23),(73,1),(56, 20),(1, -1)])) # ['Open', 'Open', 'Senior', 'Open']"
   ]
  }
 ],
 "metadata": {
  "kernelspec": {
   "display_name": "Python [conda env:m1_ih]",
   "language": "python",
   "name": "conda-env-m1_ih-py"
  },
  "language_info": {
   "codemirror_mode": {
    "name": "ipython",
    "version": 3
   },
   "file_extension": ".py",
   "mimetype": "text/x-python",
   "name": "python",
   "nbconvert_exporter": "python",
   "pygments_lexer": "ipython3",
   "version": "3.9.12"
  }
 },
 "nbformat": 4,
 "nbformat_minor": 5
}
