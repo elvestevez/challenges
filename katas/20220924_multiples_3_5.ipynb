{
 "cells": [
  {
   "cell_type": "code",
   "execution_count": 43,
   "id": "1fd40383",
   "metadata": {},
   "outputs": [],
   "source": [
    "def solution(number):\n",
    "    if number < 0:\n",
    "        return 0\n",
    "    else:\n",
    "        return sum([i for i in range(number) if (i % 3) == 0 or (i % 5) == 0])\n"
   ]
  },
  {
   "cell_type": "code",
   "execution_count": 44,
   "id": "3cc33072",
   "metadata": {},
   "outputs": [],
   "source": [
    "def solution(number):\n",
    "    return sum([i for i in range(number) if (i % 3) == 0 or (i % 5) == 0])\n"
   ]
  },
  {
   "cell_type": "code",
   "execution_count": 45,
   "id": "f7a06b61",
   "metadata": {},
   "outputs": [
    {
     "data": {
      "text/plain": [
       "23"
      ]
     },
     "execution_count": 45,
     "metadata": {},
     "output_type": "execute_result"
    }
   ],
   "source": [
    "solution(10)"
   ]
  },
  {
   "cell_type": "code",
   "execution_count": 46,
   "id": "612929ab",
   "metadata": {},
   "outputs": [
    {
     "data": {
      "text/plain": [
       "45"
      ]
     },
     "execution_count": 46,
     "metadata": {},
     "output_type": "execute_result"
    }
   ],
   "source": [
    "solution(15)"
   ]
  },
  {
   "cell_type": "code",
   "execution_count": 47,
   "id": "d7fb5094",
   "metadata": {},
   "outputs": [
    {
     "data": {
      "text/plain": [
       "0"
      ]
     },
     "execution_count": 47,
     "metadata": {},
     "output_type": "execute_result"
    }
   ],
   "source": [
    "solution(-3)"
   ]
  },
  {
   "cell_type": "code",
   "execution_count": 48,
   "id": "3529f130",
   "metadata": {},
   "outputs": [
    {
     "data": {
      "text/plain": [
       "0"
      ]
     },
     "execution_count": 48,
     "metadata": {},
     "output_type": "execute_result"
    }
   ],
   "source": [
    "solution(0)"
   ]
  },
  {
   "cell_type": "code",
   "execution_count": null,
   "id": "f30ccb5d",
   "metadata": {},
   "outputs": [],
   "source": []
  },
  {
   "cell_type": "code",
   "execution_count": 34,
   "id": "0cad0c64",
   "metadata": {},
   "outputs": [
    {
     "data": {
      "text/plain": [
       "0"
      ]
     },
     "execution_count": 34,
     "metadata": {},
     "output_type": "execute_result"
    }
   ],
   "source": [
    "sum([])"
   ]
  },
  {
   "cell_type": "code",
   "execution_count": 37,
   "id": "ac9997db",
   "metadata": {},
   "outputs": [
    {
     "name": "stdout",
     "output_type": "stream",
     "text": [
      "0\n",
      "1\n",
      "2\n"
     ]
    }
   ],
   "source": [
    "for i in range(3):\n",
    "    print(i)"
   ]
  },
  {
   "cell_type": "code",
   "execution_count": 39,
   "id": "3f29bb9b",
   "metadata": {},
   "outputs": [],
   "source": [
    "for i in range(-3):\n",
    "    print(i)"
   ]
  },
  {
   "cell_type": "code",
   "execution_count": null,
   "id": "30ef9dd7",
   "metadata": {},
   "outputs": [],
   "source": []
  },
  {
   "cell_type": "code",
   "execution_count": null,
   "id": "38873b97",
   "metadata": {},
   "outputs": [],
   "source": []
  },
  {
   "cell_type": "code",
   "execution_count": 42,
   "id": "3e12f976",
   "metadata": {},
   "outputs": [
    {
     "name": "stdout",
     "output_type": "stream",
     "text": [
      "[0, 3, 5, 6, 9, 10, 12]\n"
     ]
    }
   ],
   "source": [
    "number = 15\n",
    "result = 0\n",
    "\n",
    "if number < 0:\n",
    "    result = 0\n",
    "else:\n",
    "    result = [i for i in range(number) if (i % 3) == 0 or (i % 5) == 0]\n",
    "    #result = sum([i for i in range(number) if (i % 3) == 0 or (i % 5) == 0])\n",
    "    \n",
    "print(result)"
   ]
  }
 ],
 "metadata": {
  "kernelspec": {
   "display_name": "Python [conda env:m2_ih]",
   "language": "python",
   "name": "conda-env-m2_ih-py"
  },
  "language_info": {
   "codemirror_mode": {
    "name": "ipython",
    "version": 3
   },
   "file_extension": ".py",
   "mimetype": "text/x-python",
   "name": "python",
   "nbconvert_exporter": "python",
   "pygments_lexer": "ipython3",
   "version": "3.9.12"
  }
 },
 "nbformat": 4,
 "nbformat_minor": 5
}
