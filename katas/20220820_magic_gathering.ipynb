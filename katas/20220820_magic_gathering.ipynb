{
 "cells": [
  {
   "cell_type": "code",
   "execution_count": 189,
   "id": "7d1d2276",
   "metadata": {},
   "outputs": [],
   "source": [
    "# classroom\n",
    "def pit_against(c1, c2):\n",
    "    if c1[0] >= c2[1] and c1[1] > c2[0]:\n",
    "        return c1, None\n",
    "    elif c2[0] >= c1[1] and c2[1] > c1[0]:\n",
    "        return None, c2\n",
    "    elif c1[0] < c2[1] and c1[1] > c2[0]:\n",
    "        return c1, c2\n",
    "    else:\n",
    "        return None, None"
   ]
  },
  {
   "cell_type": "code",
   "execution_count": 190,
   "id": "e62efa37",
   "metadata": {},
   "outputs": [],
   "source": [
    "def competition(creature1, creature2):\n",
    "    # creature2 agains creature1\n",
    "    if creature2[0] >= creature1[1]:\n",
    "        c1 = None\n",
    "    else:\n",
    "        c1 = creature1    \n",
    "    # creature1 agains creature2\n",
    "    if creature1[0] >= creature2[1]:\n",
    "        c2 = None\n",
    "    else:\n",
    "        c2 = creature2\n",
    "    \n",
    "    return c1, c2"
   ]
  },
  {
   "cell_type": "code",
   "execution_count": 191,
   "id": "caebc241",
   "metadata": {},
   "outputs": [],
   "source": [
    "# classroom\n",
    "def battle(player1, player2):\n",
    "    # calculate num of competitions: min creatures of players\n",
    "    min_num = min(len(player1), len(player2))\n",
    "    for i in range(min_num):\n",
    "        # competition\n",
    "        player1[i], player2[i] = competition(player1[i], player2[i])\n",
    "    # clean None\n",
    "    player1 = list(filter(lambda x: x is not None, player1))\n",
    "    player2 = list(filter(lambda x: x is not None, player2))\n",
    "    \n",
    "    # result\n",
    "    final_dict = {'player1': player1, 'player2': player2}\n",
    "    \n",
    "    return final_dict"
   ]
  },
  {
   "cell_type": "code",
   "execution_count": 192,
   "id": "19235e45",
   "metadata": {},
   "outputs": [],
   "source": [
    "def battle(player1, player2):\n",
    "    # dict players\n",
    "    result_player1 = []\n",
    "    result_player2 = []\n",
    "    result_battle = {}\n",
    "    \n",
    "    # calculate num of competitions: min creatures of players\n",
    "    min_num = min(len(player1), len(player2))\n",
    "    for i in range(min_num):\n",
    "        # competition\n",
    "        p1, p2 = competition(player1[i], player2[i])\n",
    "        if p1 != None:\n",
    "            result_player1.append(p1)\n",
    "        if p2 != None:\n",
    "            result_player2.append(p2)\n",
    "    \n",
    "    # add creatures no competition\n",
    "    if len(player1) > len(player2):\n",
    "        result_player1.extend(player1[min_num:])\n",
    "    elif len(player2) > len(player1):\n",
    "        result_player2.extend(player2[min_num:])\n",
    "    \n",
    "    # result\n",
    "    result_battle['player1'] = result_player1\n",
    "    result_battle['player2'] = result_player2\n",
    "    \n",
    "    return result_battle"
   ]
  },
  {
   "cell_type": "code",
   "execution_count": 193,
   "id": "08ea7c1a",
   "metadata": {
    "scrolled": true
   },
   "outputs": [
    {
     "name": "stdout",
     "output_type": "stream",
     "text": [
      "{'player1': [[3, 4]], 'player2': [[1, 2], [3, 3]]}\n"
     ]
    }
   ],
   "source": [
    "player1 = [[1, 1], [2, 1], [2, 2], [3, 4]];\n",
    "player2 = [[1, 2], [1, 2], [3, 3], [2, 1]];\n",
    "\n",
    "result = battle(player1, player2)\n",
    "\n",
    "print(result)"
   ]
  },
  {
   "cell_type": "code",
   "execution_count": 194,
   "id": "6dc91e05",
   "metadata": {},
   "outputs": [
    {
     "name": "stdout",
     "output_type": "stream",
     "text": [
      "{'player1': [[3, 4], [1, 1]], 'player2': [[1, 2], [3, 3]]}\n"
     ]
    }
   ],
   "source": [
    "player1 = [[1, 1], [2, 1], [2, 2], [3, 4], [1, 1]];\n",
    "player2 = [[1, 2], [1, 2], [3, 3], [2, 1]];\n",
    "\n",
    "result = battle(player1, player2)\n",
    "\n",
    "print(result)"
   ]
  },
  {
   "cell_type": "code",
   "execution_count": 195,
   "id": "f7f8bd65",
   "metadata": {},
   "outputs": [
    {
     "name": "stdout",
     "output_type": "stream",
     "text": [
      "{'player1': [[3, 4]], 'player2': [[1, 2], [3, 3], [2, 2]]}\n"
     ]
    }
   ],
   "source": [
    "player1 = [[1, 1], [2, 1], [2, 2], [3, 4]];\n",
    "player2 = [[1, 2], [1, 2], [3, 3], [2, 1], [2, 2]];\n",
    "\n",
    "result = battle(player1, player2)\n",
    "\n",
    "print(result)"
   ]
  },
  {
   "cell_type": "code",
   "execution_count": 196,
   "id": "fbe8d09b",
   "metadata": {},
   "outputs": [
    {
     "name": "stdout",
     "output_type": "stream",
     "text": [
      "{'player1': [[5, 5], [6, 6]], 'player2': [[1, 2], [3, 3]]}\n"
     ]
    }
   ],
   "source": [
    "player1 = [[1, 1], [2, 1], [2, 2], [5, 5], [6, 6]];\n",
    "player2 = [[1, 2], [1, 2], [3, 3]];\n",
    "\n",
    "result = battle(player1, player2)\n",
    "\n",
    "print(result)"
   ]
  },
  {
   "cell_type": "code",
   "execution_count": 197,
   "id": "55c8127e",
   "metadata": {},
   "outputs": [
    {
     "name": "stdout",
     "output_type": "stream",
     "text": [
      "{'player1': [], 'player2': [[1, 2], [3, 3]]}\n"
     ]
    }
   ],
   "source": [
    "player1 = [[1, 1], [2, 1], [2, 2]];\n",
    "player2 = [[1, 2], [1, 2], [3, 3]];\n",
    "\n",
    "result = battle(player1, player2)\n",
    "\n",
    "print(result)"
   ]
  },
  {
   "cell_type": "code",
   "execution_count": 198,
   "id": "06892973",
   "metadata": {},
   "outputs": [
    {
     "name": "stdout",
     "output_type": "stream",
     "text": [
      "{'player1': [], 'player2': [[1, 1], [2, 2]]}\n"
     ]
    }
   ],
   "source": [
    "player1 = [];\n",
    "player2 = [[1, 1], [2, 2]];\n",
    "\n",
    "result = battle(player1, player2)\n",
    "\n",
    "print(result)"
   ]
  },
  {
   "cell_type": "code",
   "execution_count": 199,
   "id": "62384a60",
   "metadata": {},
   "outputs": [
    {
     "name": "stdout",
     "output_type": "stream",
     "text": [
      "{'player1': [[1, 1], [2, 2], [3, 3]], 'player2': []}\n"
     ]
    }
   ],
   "source": [
    "player1 = [[1, 1], [2, 2], [3, 3]];\n",
    "player2 = [];\n",
    "\n",
    "\n",
    "result = battle(player1, player2)\n",
    "\n",
    "print(result)"
   ]
  }
 ],
 "metadata": {
  "kernelspec": {
   "display_name": "Python [conda env:m2_ih]",
   "language": "python",
   "name": "conda-env-m2_ih-py"
  },
  "language_info": {
   "codemirror_mode": {
    "name": "ipython",
    "version": 3
   },
   "file_extension": ".py",
   "mimetype": "text/x-python",
   "name": "python",
   "nbconvert_exporter": "python",
   "pygments_lexer": "ipython3",
   "version": "3.9.12"
  }
 },
 "nbformat": 4,
 "nbformat_minor": 5
}
