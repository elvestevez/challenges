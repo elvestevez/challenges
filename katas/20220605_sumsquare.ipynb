{
 "cells": [
  {
   "cell_type": "code",
   "execution_count": 20,
   "id": "f70ed535",
   "metadata": {},
   "outputs": [],
   "source": [
    "def square_sum(numbers):\n",
    "    return (sum([i**2 for i in numbers]))"
   ]
  },
  {
   "cell_type": "code",
   "execution_count": 21,
   "id": "e7c04bed",
   "metadata": {},
   "outputs": [
    {
     "name": "stdout",
     "output_type": "stream",
     "text": [
      "5\n",
      "50\n",
      "5\n",
      "2\n"
     ]
    }
   ],
   "source": [
    "print(square_sum([1,2]))\n",
    "print(square_sum([0, 3, 4, 5]))\n",
    "print(square_sum([-1,-2]))\n",
    "print(square_sum([-1,0,1]))"
   ]
  }
 ],
 "metadata": {
  "kernelspec": {
   "display_name": "Python [conda env:m1_ih]",
   "language": "python",
   "name": "conda-env-m1_ih-py"
  },
  "language_info": {
   "codemirror_mode": {
    "name": "ipython",
    "version": 3
   },
   "file_extension": ".py",
   "mimetype": "text/x-python",
   "name": "python",
   "nbconvert_exporter": "python",
   "pygments_lexer": "ipython3",
   "version": "3.9.12"
  }
 },
 "nbformat": 4,
 "nbformat_minor": 5
}
