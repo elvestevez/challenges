{
 "cells": [
  {
   "cell_type": "markdown",
   "id": "784aafe4",
   "metadata": {},
   "source": [
    "## Kata 28/05/2022"
   ]
  },
  {
   "cell_type": "markdown",
   "id": "e49466ca",
   "metadata": {},
   "source": [
    "#### English"
   ]
  },
  {
   "cell_type": "code",
   "execution_count": 2,
   "id": "0bcb9767",
   "metadata": {},
   "outputs": [],
   "source": [
    "def sp_eng(sentence):\n",
    "    return \"english\" in sentence.lower()"
   ]
  },
  {
   "cell_type": "code",
   "execution_count": 3,
   "id": "e524fb9d",
   "metadata": {},
   "outputs": [
    {
     "name": "stdout",
     "output_type": "stream",
     "text": [
      "True\n"
     ]
    }
   ],
   "source": [
    "print(sp_eng(\"speak english\"))"
   ]
  },
  {
   "cell_type": "code",
   "execution_count": 4,
   "id": "8036b249",
   "metadata": {},
   "outputs": [
    {
     "name": "stdout",
     "output_type": "stream",
     "text": [
      "True\n"
     ]
    }
   ],
   "source": [
    "print(sp_eng(\"speak English\"))"
   ]
  },
  {
   "cell_type": "code",
   "execution_count": 5,
   "id": "09cb5183",
   "metadata": {},
   "outputs": [
    {
     "name": "stdout",
     "output_type": "stream",
     "text": [
      "True\n"
     ]
    }
   ],
   "source": [
    "print(sp_eng(\"speak ENGLISH\"))"
   ]
  },
  {
   "cell_type": "code",
   "execution_count": 6,
   "id": "71d96c59",
   "metadata": {},
   "outputs": [
    {
     "name": "stdout",
     "output_type": "stream",
     "text": [
      "False\n"
     ]
    }
   ],
   "source": [
    "print(sp_eng(\"speak nglish\"))"
   ]
  },
  {
   "cell_type": "code",
   "execution_count": 7,
   "id": "9f4a2c37",
   "metadata": {},
   "outputs": [
    {
     "name": "stdout",
     "output_type": "stream",
     "text": [
      "False\n"
     ]
    }
   ],
   "source": [
    "print(sp_eng(\"\"))"
   ]
  }
 ],
 "metadata": {
  "kernelspec": {
   "display_name": "Python [conda env:m1_ih]",
   "language": "python",
   "name": "conda-env-m1_ih-py"
  },
  "language_info": {
   "codemirror_mode": {
    "name": "ipython",
    "version": 3
   },
   "file_extension": ".py",
   "mimetype": "text/x-python",
   "name": "python",
   "nbconvert_exporter": "python",
   "pygments_lexer": "ipython3",
   "version": "3.9.12"
  }
 },
 "nbformat": 4,
 "nbformat_minor": 5
}
