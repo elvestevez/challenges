{
 "cells": [
  {
   "cell_type": "code",
   "execution_count": 14,
   "id": "49582db7",
   "metadata": {},
   "outputs": [],
   "source": [
    "def solution(number):\n",
    "    if number <= 0:\n",
    "        return 0\n",
    "    else:\n",
    "        return sum([i for i in range(1,number) if i % 3 == 0 or i % 5 == 0])       "
   ]
  },
  {
   "cell_type": "code",
   "execution_count": 15,
   "id": "ce342cbd",
   "metadata": {},
   "outputs": [
    {
     "name": "stdout",
     "output_type": "stream",
     "text": [
      "23\n",
      "0\n",
      "0\n",
      "0\n",
      "8\n",
      "60\n"
     ]
    }
   ],
   "source": [
    "print(solution(10))\n",
    "print(solution(0))\n",
    "print(solution(1))\n",
    "print(solution(-3))\n",
    "print(solution(6))\n",
    "print(solution(16))"
   ]
  }
 ],
 "metadata": {
  "kernelspec": {
   "display_name": "Python [conda env:m1_ih]",
   "language": "python",
   "name": "conda-env-m1_ih-py"
  },
  "language_info": {
   "codemirror_mode": {
    "name": "ipython",
    "version": 3
   },
   "file_extension": ".py",
   "mimetype": "text/x-python",
   "name": "python",
   "nbconvert_exporter": "python",
   "pygments_lexer": "ipython3",
   "version": "3.9.12"
  }
 },
 "nbformat": 4,
 "nbformat_minor": 5
}
