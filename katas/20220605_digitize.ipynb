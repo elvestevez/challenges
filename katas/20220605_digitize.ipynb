{
 "cells": [
  {
   "cell_type": "code",
   "execution_count": 4,
   "id": "081832bc",
   "metadata": {},
   "outputs": [],
   "source": [
    "def digitize(n):\n",
    "    return [int(i) for i in str(n)]"
   ]
  },
  {
   "cell_type": "code",
   "execution_count": 5,
   "id": "413c5878",
   "metadata": {},
   "outputs": [
    {
     "name": "stdout",
     "output_type": "stream",
     "text": [
      "[1, 2, 3]\n",
      "[1]\n",
      "[0]\n",
      "[1, 2, 3, 0]\n",
      "[8, 6, 7, 5, 3, 0, 9]\n"
     ]
    }
   ],
   "source": [
    "print(digitize(123)) # [1,2,3]\n",
    "print(digitize(1)) #  [1]\n",
    "print(digitize(0)) #  [0]\n",
    "print(digitize(1230)) #  [1,2,3, 0]\n",
    "print(digitize(8675309)) #  [8,6,7,5,3,0,9]"
   ]
  }
 ],
 "metadata": {
  "kernelspec": {
   "display_name": "Python [conda env:m1_ih]",
   "language": "python",
   "name": "conda-env-m1_ih-py"
  },
  "language_info": {
   "codemirror_mode": {
    "name": "ipython",
    "version": 3
   },
   "file_extension": ".py",
   "mimetype": "text/x-python",
   "name": "python",
   "nbconvert_exporter": "python",
   "pygments_lexer": "ipython3",
   "version": "3.9.12"
  }
 },
 "nbformat": 4,
 "nbformat_minor": 5
}
