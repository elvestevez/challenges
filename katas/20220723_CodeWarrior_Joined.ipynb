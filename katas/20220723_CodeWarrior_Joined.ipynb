{
 "cells": [
  {
   "cell_type": "code",
   "execution_count": 1,
   "id": "95cb9c9e",
   "metadata": {},
   "outputs": [],
   "source": [
    "import requests\n",
    "import bs4\n",
    "\n",
    "import re\n"
   ]
  },
  {
   "cell_type": "code",
   "execution_count": 2,
   "id": "105ead11",
   "metadata": {},
   "outputs": [
    {
     "data": {
      "text/plain": [
       "[<div class=\"stat\"><b>Name:</b>Unknown</div>,\n",
       " <div class=\"stat\"><b>Clan:</b>Ironhack</div>,\n",
       " <div class=\"stat\"><b>Member Since:</b>May 2022</div>,\n",
       " <div class=\"stat\"><b>Last Seen:</b>Jul 2022</div>,\n",
       " <div class=\"stat\"><b>Profiles:</b><ul class=\"is-inline\"></ul></div>,\n",
       " <div class=\"stat\"><b>Following:</b>0</div>,\n",
       " <div class=\"stat\"><b>Followers:</b>0</div>,\n",
       " <div class=\"stat\"><b>Allies:</b>0</div>,\n",
       " <div class=\"stat\"><b>Rank:</b>6 kyu</div>,\n",
       " <div class=\"stat\"><b>Honor:</b>134</div>,\n",
       " <div class=\"stat\"><b>Leaderboard Position:</b>#408,309</div>,\n",
       " <div class=\"stat\"><b>Honor Percentile:</b>Top 94.295%</div>,\n",
       " <div class=\"stat\"><b>Total Completed Kata:</b>20</div>,\n",
       " <div class=\"stat\"><b>Total Languages Trained:</b>2</div>,\n",
       " <div class=\"stat\"><b>Highest Trained:</b>Python (6 kyu)</div>,\n",
       " <div class=\"stat\"><b>Most Recent:</b>Python</div>,\n",
       " <div class=\"stat\"><b>Comments:</b>0 (0 replies)</div>,\n",
       " <div class=\"stat\"><b>Collections:</b>0</div>,\n",
       " <div class=\"stat\"><b>Kumite:</b>0</div>,\n",
       " <div class=\"stat\"><b>Translations:</b>0 (0 approved)</div>]"
      ]
     },
     "execution_count": 2,
     "metadata": {},
     "output_type": "execute_result"
    }
   ],
   "source": [
    "user = \"elvestevez\"\n",
    "url = f\"https://www.codewars.com/users/{user}\"\n",
    "\n",
    "# html\n",
    "response = requests.get(url)\n",
    "html = response.content\n",
    "parsed_html = bs4.BeautifulSoup(html, \"html.parser\") \n",
    "parsed_html\n",
    "\n",
    "stats = parsed_html.find_all(\"div\", {\"class\": \"stat\"})\n",
    "stats"
   ]
  },
  {
   "cell_type": "code",
   "execution_count": 3,
   "id": "a75662c9",
   "metadata": {},
   "outputs": [
    {
     "data": {
      "text/plain": [
       "['Member Since:May 2022']"
      ]
     },
     "execution_count": 3,
     "metadata": {},
     "output_type": "execute_result"
    }
   ],
   "source": [
    "member = [tag.text for tag in stats if \"Member Since:\" in tag.text]\n",
    "member\n"
   ]
  },
  {
   "cell_type": "code",
   "execution_count": 4,
   "id": "0f0a9a65",
   "metadata": {},
   "outputs": [
    {
     "data": {
      "text/plain": [
       "'May 2022'"
      ]
     },
     "execution_count": 4,
     "metadata": {},
     "output_type": "execute_result"
    }
   ],
   "source": [
    "member = [tag.text for tag in stats if \"Member Since:\" in tag.text]\n",
    "member_since = member[0]\n",
    "member_date = member_since.split('Member Since:')[1]\n",
    "member_date\n"
   ]
  },
  {
   "cell_type": "code",
   "execution_count": 5,
   "id": "6a172c5b",
   "metadata": {},
   "outputs": [
    {
     "data": {
      "text/plain": [
       "[<div class=\"stat\"><b>Member Since:</b>May 2022</div>]"
      ]
     },
     "execution_count": 5,
     "metadata": {},
     "output_type": "execute_result"
    }
   ],
   "source": [
    "member = [tag for tag in stats if \"Member Since:\" in str(tag)]\n",
    "member"
   ]
  },
  {
   "cell_type": "code",
   "execution_count": 6,
   "id": "7d3692c9",
   "metadata": {},
   "outputs": [
    {
     "data": {
      "text/plain": [
       "'May 2022'"
      ]
     },
     "execution_count": 6,
     "metadata": {},
     "output_type": "execute_result"
    }
   ],
   "source": [
    "member = [tag for tag in stats if \"Member Since:\" in str(tag)]\n",
    "member_since = str(member[0])\n",
    "member_date = member_since.split('<div class=\"stat\"><b>Member Since:</b>')[1].split('</div>')[0]\n",
    "member_date"
   ]
  },
  {
   "cell_type": "markdown",
   "id": "c130812c",
   "metadata": {},
   "source": [
    "###  Codewars"
   ]
  },
  {
   "cell_type": "code",
   "execution_count": 13,
   "id": "2b2c7eb4",
   "metadata": {},
   "outputs": [],
   "source": [
    "import urllib\n",
    "import requests\n",
    "import bs4\n",
    "\n",
    "def get_member_since(username):\n",
    "    url = f\"https://www.codewars.com/users/{username}\"  \n",
    "    try:\n",
    "        # html\n",
    "        file_url = urllib.request.urlopen(url)\n",
    "        html = file_url.read()\n",
    "        parsed_html = bs4.BeautifulSoup(html, \"html.parser\") \n",
    "\n",
    "        # tag\n",
    "        stats = parsed_html.find_all(\"div\", {\"class\": \"stat\"})\n",
    "        member = [tag.text for tag in stats if \"Member Since:\" in tag.text]\n",
    "        member_since = member[0]\n",
    "        member_date = member_since.split('Member Since:')[1]\n",
    "        return member_date\n",
    "    except:\n",
    "        return \"User not found\"\n"
   ]
  },
  {
   "cell_type": "code",
   "execution_count": 14,
   "id": "179e513f",
   "metadata": {},
   "outputs": [
    {
     "data": {
      "text/plain": [
       "'May 2022'"
      ]
     },
     "execution_count": 14,
     "metadata": {},
     "output_type": "execute_result"
    }
   ],
   "source": [
    "get_member_since(\"elvestevez\")"
   ]
  },
  {
   "cell_type": "code",
   "execution_count": 15,
   "id": "1c15598c",
   "metadata": {},
   "outputs": [
    {
     "data": {
      "text/plain": [
       "'User not found'"
      ]
     },
     "execution_count": 15,
     "metadata": {},
     "output_type": "execute_result"
    }
   ],
   "source": [
    "get_member_since(\"dpleshkov\")"
   ]
  },
  {
   "cell_type": "code",
   "execution_count": 16,
   "id": "d3dfd3c9",
   "metadata": {},
   "outputs": [],
   "source": [
    "class KataError(Exception):\n",
    "    def __init__(self, message):\n",
    "        super().__init__(message)\n",
    "\n",
    "\n",
    "def get_member_since(username):\n",
    "    url = f\"https://www.codewars.com/users/{username}\"\n",
    "    try:\n",
    "        # html\n",
    "        file_url = urllib.request.urlopen(url)\n",
    "        html = file_url.read()\n",
    "        parsed_html = bs4.BeautifulSoup(html, \"html.parser\")\n",
    "        # tag\n",
    "        stats = parsed_html.find_all(\"div\", {\"class\": \"stat\"})\n",
    "        member = [tag.text for tag in stats if \"Member Since:\" in tag.text]\n",
    "        member_since = member[0]\n",
    "        member_date = member_since.split('Member Since:')[1]\n",
    "        member_date\n",
    "        return member_date\n",
    "    except:\n",
    "        raise KataError('Fatal error!!')\n",
    "        "
   ]
  },
  {
   "cell_type": "code",
   "execution_count": 17,
   "id": "5ea4d1d2",
   "metadata": {},
   "outputs": [
    {
     "data": {
      "text/plain": [
       "'May 2022'"
      ]
     },
     "execution_count": 17,
     "metadata": {},
     "output_type": "execute_result"
    }
   ],
   "source": [
    "get_member_since(\"elvestevez\")"
   ]
  },
  {
   "cell_type": "code",
   "execution_count": 18,
   "id": "0574be9e",
   "metadata": {},
   "outputs": [
    {
     "ename": "KataError",
     "evalue": "Fatal error!!",
     "output_type": "error",
     "traceback": [
      "\u001b[0;31m---------------------------------------------------------------------------\u001b[0m",
      "\u001b[0;31mHTTPError\u001b[0m                                 Traceback (most recent call last)",
      "Input \u001b[0;32mIn [16]\u001b[0m, in \u001b[0;36mget_member_since\u001b[0;34m(username)\u001b[0m\n\u001b[1;32m      8\u001b[0m \u001b[38;5;28;01mtry\u001b[39;00m:\n\u001b[1;32m      9\u001b[0m     \u001b[38;5;66;03m# html\u001b[39;00m\n\u001b[0;32m---> 10\u001b[0m     file_url \u001b[38;5;241m=\u001b[39m \u001b[43murllib\u001b[49m\u001b[38;5;241;43m.\u001b[39;49m\u001b[43mrequest\u001b[49m\u001b[38;5;241;43m.\u001b[39;49m\u001b[43murlopen\u001b[49m\u001b[43m(\u001b[49m\u001b[43murl\u001b[49m\u001b[43m)\u001b[49m\n\u001b[1;32m     11\u001b[0m     html \u001b[38;5;241m=\u001b[39m file_url\u001b[38;5;241m.\u001b[39mread()\n",
      "File \u001b[0;32m~/miniconda3/envs/m1_ih/lib/python3.9/urllib/request.py:214\u001b[0m, in \u001b[0;36murlopen\u001b[0;34m(url, data, timeout, cafile, capath, cadefault, context)\u001b[0m\n\u001b[1;32m    213\u001b[0m     opener \u001b[38;5;241m=\u001b[39m _opener\n\u001b[0;32m--> 214\u001b[0m \u001b[38;5;28;01mreturn\u001b[39;00m \u001b[43mopener\u001b[49m\u001b[38;5;241;43m.\u001b[39;49m\u001b[43mopen\u001b[49m\u001b[43m(\u001b[49m\u001b[43murl\u001b[49m\u001b[43m,\u001b[49m\u001b[43m \u001b[49m\u001b[43mdata\u001b[49m\u001b[43m,\u001b[49m\u001b[43m \u001b[49m\u001b[43mtimeout\u001b[49m\u001b[43m)\u001b[49m\n",
      "File \u001b[0;32m~/miniconda3/envs/m1_ih/lib/python3.9/urllib/request.py:523\u001b[0m, in \u001b[0;36mOpenerDirector.open\u001b[0;34m(self, fullurl, data, timeout)\u001b[0m\n\u001b[1;32m    522\u001b[0m     meth \u001b[38;5;241m=\u001b[39m \u001b[38;5;28mgetattr\u001b[39m(processor, meth_name)\n\u001b[0;32m--> 523\u001b[0m     response \u001b[38;5;241m=\u001b[39m \u001b[43mmeth\u001b[49m\u001b[43m(\u001b[49m\u001b[43mreq\u001b[49m\u001b[43m,\u001b[49m\u001b[43m \u001b[49m\u001b[43mresponse\u001b[49m\u001b[43m)\u001b[49m\n\u001b[1;32m    525\u001b[0m \u001b[38;5;28;01mreturn\u001b[39;00m response\n",
      "File \u001b[0;32m~/miniconda3/envs/m1_ih/lib/python3.9/urllib/request.py:632\u001b[0m, in \u001b[0;36mHTTPErrorProcessor.http_response\u001b[0;34m(self, request, response)\u001b[0m\n\u001b[1;32m    631\u001b[0m \u001b[38;5;28;01mif\u001b[39;00m \u001b[38;5;129;01mnot\u001b[39;00m (\u001b[38;5;241m200\u001b[39m \u001b[38;5;241m<\u001b[39m\u001b[38;5;241m=\u001b[39m code \u001b[38;5;241m<\u001b[39m \u001b[38;5;241m300\u001b[39m):\n\u001b[0;32m--> 632\u001b[0m     response \u001b[38;5;241m=\u001b[39m \u001b[38;5;28;43mself\u001b[39;49m\u001b[38;5;241;43m.\u001b[39;49m\u001b[43mparent\u001b[49m\u001b[38;5;241;43m.\u001b[39;49m\u001b[43merror\u001b[49m\u001b[43m(\u001b[49m\n\u001b[1;32m    633\u001b[0m \u001b[43m        \u001b[49m\u001b[38;5;124;43m'\u001b[39;49m\u001b[38;5;124;43mhttp\u001b[39;49m\u001b[38;5;124;43m'\u001b[39;49m\u001b[43m,\u001b[49m\u001b[43m \u001b[49m\u001b[43mrequest\u001b[49m\u001b[43m,\u001b[49m\u001b[43m \u001b[49m\u001b[43mresponse\u001b[49m\u001b[43m,\u001b[49m\u001b[43m \u001b[49m\u001b[43mcode\u001b[49m\u001b[43m,\u001b[49m\u001b[43m \u001b[49m\u001b[43mmsg\u001b[49m\u001b[43m,\u001b[49m\u001b[43m \u001b[49m\u001b[43mhdrs\u001b[49m\u001b[43m)\u001b[49m\n\u001b[1;32m    635\u001b[0m \u001b[38;5;28;01mreturn\u001b[39;00m response\n",
      "File \u001b[0;32m~/miniconda3/envs/m1_ih/lib/python3.9/urllib/request.py:561\u001b[0m, in \u001b[0;36mOpenerDirector.error\u001b[0;34m(self, proto, *args)\u001b[0m\n\u001b[1;32m    560\u001b[0m args \u001b[38;5;241m=\u001b[39m (\u001b[38;5;28mdict\u001b[39m, \u001b[38;5;124m'\u001b[39m\u001b[38;5;124mdefault\u001b[39m\u001b[38;5;124m'\u001b[39m, \u001b[38;5;124m'\u001b[39m\u001b[38;5;124mhttp_error_default\u001b[39m\u001b[38;5;124m'\u001b[39m) \u001b[38;5;241m+\u001b[39m orig_args\n\u001b[0;32m--> 561\u001b[0m \u001b[38;5;28;01mreturn\u001b[39;00m \u001b[38;5;28;43mself\u001b[39;49m\u001b[38;5;241;43m.\u001b[39;49m\u001b[43m_call_chain\u001b[49m\u001b[43m(\u001b[49m\u001b[38;5;241;43m*\u001b[39;49m\u001b[43margs\u001b[49m\u001b[43m)\u001b[49m\n",
      "File \u001b[0;32m~/miniconda3/envs/m1_ih/lib/python3.9/urllib/request.py:494\u001b[0m, in \u001b[0;36mOpenerDirector._call_chain\u001b[0;34m(self, chain, kind, meth_name, *args)\u001b[0m\n\u001b[1;32m    493\u001b[0m func \u001b[38;5;241m=\u001b[39m \u001b[38;5;28mgetattr\u001b[39m(handler, meth_name)\n\u001b[0;32m--> 494\u001b[0m result \u001b[38;5;241m=\u001b[39m \u001b[43mfunc\u001b[49m\u001b[43m(\u001b[49m\u001b[38;5;241;43m*\u001b[39;49m\u001b[43margs\u001b[49m\u001b[43m)\u001b[49m\n\u001b[1;32m    495\u001b[0m \u001b[38;5;28;01mif\u001b[39;00m result \u001b[38;5;129;01mis\u001b[39;00m \u001b[38;5;129;01mnot\u001b[39;00m \u001b[38;5;28;01mNone\u001b[39;00m:\n",
      "File \u001b[0;32m~/miniconda3/envs/m1_ih/lib/python3.9/urllib/request.py:641\u001b[0m, in \u001b[0;36mHTTPDefaultErrorHandler.http_error_default\u001b[0;34m(self, req, fp, code, msg, hdrs)\u001b[0m\n\u001b[1;32m    640\u001b[0m \u001b[38;5;28;01mdef\u001b[39;00m \u001b[38;5;21mhttp_error_default\u001b[39m(\u001b[38;5;28mself\u001b[39m, req, fp, code, msg, hdrs):\n\u001b[0;32m--> 641\u001b[0m     \u001b[38;5;28;01mraise\u001b[39;00m HTTPError(req\u001b[38;5;241m.\u001b[39mfull_url, code, msg, hdrs, fp)\n",
      "\u001b[0;31mHTTPError\u001b[0m: HTTP Error 404: Not Found",
      "\nDuring handling of the above exception, another exception occurred:\n",
      "\u001b[0;31mKataError\u001b[0m                                 Traceback (most recent call last)",
      "Input \u001b[0;32mIn [18]\u001b[0m, in \u001b[0;36m<cell line: 1>\u001b[0;34m()\u001b[0m\n\u001b[0;32m----> 1\u001b[0m \u001b[43mget_member_since\u001b[49m\u001b[43m(\u001b[49m\u001b[38;5;124;43m\"\u001b[39;49m\u001b[38;5;124;43mdpleshkov\u001b[39;49m\u001b[38;5;124;43m\"\u001b[39;49m\u001b[43m)\u001b[49m\n",
      "Input \u001b[0;32mIn [16]\u001b[0m, in \u001b[0;36mget_member_since\u001b[0;34m(username)\u001b[0m\n\u001b[1;32m     19\u001b[0m     \u001b[38;5;28;01mreturn\u001b[39;00m member_date\n\u001b[1;32m     20\u001b[0m \u001b[38;5;28;01mexcept\u001b[39;00m:\n\u001b[0;32m---> 21\u001b[0m     \u001b[38;5;28;01mraise\u001b[39;00m KataError(\u001b[38;5;124m'\u001b[39m\u001b[38;5;124mFatal error!!\u001b[39m\u001b[38;5;124m'\u001b[39m)\n",
      "\u001b[0;31mKataError\u001b[0m: Fatal error!!"
     ]
    }
   ],
   "source": [
    "get_member_since(\"dpleshkov\")"
   ]
  }
 ],
 "metadata": {
  "kernelspec": {
   "display_name": "Python [conda env:m1_ih]",
   "language": "python",
   "name": "conda-env-m1_ih-py"
  },
  "language_info": {
   "codemirror_mode": {
    "name": "ipython",
    "version": 3
   },
   "file_extension": ".py",
   "mimetype": "text/x-python",
   "name": "python",
   "nbconvert_exporter": "python",
   "pygments_lexer": "ipython3",
   "version": "3.9.12"
  }
 },
 "nbformat": 4,
 "nbformat_minor": 5
}
