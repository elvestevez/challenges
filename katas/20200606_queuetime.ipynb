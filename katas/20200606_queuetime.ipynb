{
 "cells": [
  {
   "cell_type": "code",
   "execution_count": 47,
   "id": "52198bfb",
   "metadata": {},
   "outputs": [],
   "source": [
    "# poco eficiente...\n",
    "def queue(queuers,pos):\n",
    "    # Inicalize time\n",
    "    time = 0\n",
    "\n",
    "    # Go previous positions\n",
    "    for i in range(pos):\n",
    "        # if value previous position is less or equals than position, time adds value previous position\n",
    "        if queuers[i] <= queuers[pos]:\n",
    "            time += queuers[i]\n",
    "        # if value previous position is greater than position, time adds value position\n",
    "        else:\n",
    "            time +=queuers[pos]\n",
    "\n",
    "    # Go next positions\n",
    "    for i in range(pos+1,len(queuers)):\n",
    "        # if value next position is less than position, time adds value next position\n",
    "        if queuers[i] < queuers[pos]:\n",
    "            time += queuers[i]\n",
    "        # if value next position is greater or equals than position, time adds value position -1\n",
    "        else:\n",
    "            time +=queuers[pos]-1\n",
    "\n",
    "    # Go position\n",
    "    time += queuers[pos]\n",
    "    \n",
    "    return time"
   ]
  },
  {
   "cell_type": "code",
   "execution_count": 48,
   "id": "18426a08",
   "metadata": {},
   "outputs": [
    {
     "name": "stdout",
     "output_type": "stream",
     "text": [
      "6\n",
      "18\n",
      "12\n",
      "20\n",
      "17\n"
     ]
    }
   ],
   "source": [
    "print(queue([2, 5, 3, 6, 4], 0)) # 6\n",
    "print(queue([2, 5, 3, 6, 4], 1)) # 18\n",
    "print(queue([2, 5, 3, 6, 4], 2)) # 12\n",
    "print(queue([2, 5, 3, 6, 4], 3)) # 20\n",
    "print(queue([2, 5, 3, 6, 4], 4)) # 17"
   ]
  }
 ],
 "metadata": {
  "kernelspec": {
   "display_name": "Python [conda env:m1_ih]",
   "language": "python",
   "name": "conda-env-m1_ih-py"
  },
  "language_info": {
   "codemirror_mode": {
    "name": "ipython",
    "version": 3
   },
   "file_extension": ".py",
   "mimetype": "text/x-python",
   "name": "python",
   "nbconvert_exporter": "python",
   "pygments_lexer": "ipython3",
   "version": "3.9.12"
  }
 },
 "nbformat": 4,
 "nbformat_minor": 5
}
