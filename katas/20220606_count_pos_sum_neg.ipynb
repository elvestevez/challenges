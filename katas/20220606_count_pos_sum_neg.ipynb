{
 "cells": [
  {
   "cell_type": "code",
   "execution_count": 1,
   "id": "67f03e0c",
   "metadata": {},
   "outputs": [],
   "source": [
    "def count_positives_sum_negatives(arr):\n",
    "    pos = 0\n",
    "    neg = 0\n",
    "    arr_new = []\n",
    "    \n",
    "    if type(arr) == list and len(arr) > 0:\n",
    "        for i in arr:\n",
    "            if i > 0:\n",
    "                pos += 1\n",
    "            elif i < 0:\n",
    "                neg += i\n",
    "\n",
    "        arr_new.append(pos)\n",
    "        arr_new.append(neg)\n",
    "\n",
    "    return arr_new"
   ]
  },
  {
   "cell_type": "code",
   "execution_count": 4,
   "id": "fe0a12f5",
   "metadata": {},
   "outputs": [
    {
     "name": "stdout",
     "output_type": "stream",
     "text": [
      "[10, -65]\n",
      "[]\n",
      "[]\n",
      "[]\n",
      "[0, 0]\n",
      "[]\n"
     ]
    }
   ],
   "source": [
    "print(count_positives_sum_negatives([1, 2, 3, 4, 5, 6, 7, 8, 9, 10, -11, -12, -13, -14, -15]))\n",
    "print(count_positives_sum_negatives([]))\n",
    "print(count_positives_sum_negatives(0))\n",
    "print(count_positives_sum_negatives(2))\n",
    "print(count_positives_sum_negatives([0]))\n",
    "print(count_positives_sum_negatives(None))"
   ]
  },
  {
   "cell_type": "code",
   "execution_count": 32,
   "id": "0e6ef462",
   "metadata": {},
   "outputs": [],
   "source": [
    "def count_positives_sum_negatives(arr):\n",
    "    if type(arr) == list and len(arr) > 0:\n",
    "        return [len([i for i in arr if i > 0]),sum([i for i in arr if i < 0])]\n",
    "    else:\n",
    "        return []"
   ]
  },
  {
   "cell_type": "code",
   "execution_count": 33,
   "id": "e0402997",
   "metadata": {},
   "outputs": [
    {
     "name": "stdout",
     "output_type": "stream",
     "text": [
      "[10, -65]\n",
      "[]\n",
      "[]\n",
      "[]\n",
      "[0, 0]\n",
      "[]\n"
     ]
    }
   ],
   "source": [
    "print(count_positives_sum_negatives([1, 2, 3, 4, 5, 6, 7, 8, 9, 10, -11, -12, -13, -14, -15]))\n",
    "print(count_positives_sum_negatives([]))\n",
    "print(count_positives_sum_negatives(0))\n",
    "print(count_positives_sum_negatives(2))\n",
    "print(count_positives_sum_negatives([0]))\n",
    "print(count_positives_sum_negatives(None))"
   ]
  }
 ],
 "metadata": {
  "kernelspec": {
   "display_name": "Python [conda env:m1_ih]",
   "language": "python",
   "name": "conda-env-m1_ih-py"
  },
  "language_info": {
   "codemirror_mode": {
    "name": "ipython",
    "version": 3
   },
   "file_extension": ".py",
   "mimetype": "text/x-python",
   "name": "python",
   "nbconvert_exporter": "python",
   "pygments_lexer": "ipython3",
   "version": "3.9.12"
  }
 },
 "nbformat": 4,
 "nbformat_minor": 5
}
