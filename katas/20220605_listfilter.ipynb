{
 "cells": [
  {
   "cell_type": "code",
   "execution_count": 13,
   "id": "2acb8450",
   "metadata": {},
   "outputs": [],
   "source": [
    "def filter_list(l):\n",
    "    return [i for i in l if type(i) == int]"
   ]
  },
  {
   "cell_type": "code",
   "execution_count": 14,
   "id": "9d74e765",
   "metadata": {},
   "outputs": [
    {
     "name": "stdout",
     "output_type": "stream",
     "text": [
      "[1, 2]\n",
      "[1, 0, 15]\n",
      "[1, 2, 123]\n"
     ]
    }
   ],
   "source": [
    "print(filter_list([1,2,'a','b'])) # [1,2]\n",
    "print(filter_list([1,'a','b',0,15])) # [1,0,15]\n",
    "print(filter_list([1,2,'aasf','1','123',123])) # [1,2,123]"
   ]
  }
 ],
 "metadata": {
  "kernelspec": {
   "display_name": "Python [conda env:m1_ih]",
   "language": "python",
   "name": "conda-env-m1_ih-py"
  },
  "language_info": {
   "codemirror_mode": {
    "name": "ipython",
    "version": 3
   },
   "file_extension": ".py",
   "mimetype": "text/x-python",
   "name": "python",
   "nbconvert_exporter": "python",
   "pygments_lexer": "ipython3",
   "version": "3.9.12"
  }
 },
 "nbformat": 4,
 "nbformat_minor": 5
}
