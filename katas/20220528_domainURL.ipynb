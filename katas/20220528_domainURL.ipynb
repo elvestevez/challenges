{
 "cells": [
  {
   "cell_type": "markdown",
   "id": "784aafe4",
   "metadata": {},
   "source": [
    "## Kata 28/05/2022"
   ]
  },
  {
   "cell_type": "markdown",
   "id": "f9703213",
   "metadata": {},
   "source": [
    "#### Domain URL"
   ]
  },
  {
   "cell_type": "code",
   "execution_count": 2,
   "id": "6a1e8c37",
   "metadata": {},
   "outputs": [],
   "source": [
    "def domain_name(url):\n",
    "    url_clean = url.replace(\"http://\",\"\").replace(\"https://\",\"\").replace(\"www.\",\"\")\n",
    "    domain = url_clean.split('.')[0]\n",
    "    return domain"
   ]
  },
  {
   "cell_type": "code",
   "execution_count": 3,
   "id": "e524fb9d",
   "metadata": {},
   "outputs": [
    {
     "name": "stdout",
     "output_type": "stream",
     "text": [
      "google\n"
     ]
    }
   ],
   "source": [
    "print(domain_name(\"www.google.com\"))"
   ]
  },
  {
   "cell_type": "code",
   "execution_count": 4,
   "id": "f15c1836",
   "metadata": {},
   "outputs": [
    {
     "name": "stdout",
     "output_type": "stream",
     "text": [
      "prueba\n"
     ]
    }
   ],
   "source": [
    "print(domain_name(\"http://www.prueba.com\"))"
   ]
  },
  {
   "cell_type": "code",
   "execution_count": 6,
   "id": "71ef0438",
   "metadata": {},
   "outputs": [
    {
     "name": "stdout",
     "output_type": "stream",
     "text": [
      "probando\n"
     ]
    }
   ],
   "source": [
    "print(domain_name(\"https://www.probando.com\"))"
   ]
  },
  {
   "cell_type": "code",
   "execution_count": 7,
   "id": "d1e77629",
   "metadata": {},
   "outputs": [
    {
     "name": "stdout",
     "output_type": "stream",
     "text": [
      "otra\n"
     ]
    }
   ],
   "source": [
    "print(domain_name(\"http://otra.com\"))"
   ]
  },
  {
   "cell_type": "code",
   "execution_count": 8,
   "id": "224800be",
   "metadata": {},
   "outputs": [
    {
     "name": "stdout",
     "output_type": "stream",
     "text": [
      "mydomain\n"
     ]
    }
   ],
   "source": [
    "print(domain_name(\"https://mydomain.com\"))"
   ]
  }
 ],
 "metadata": {
  "kernelspec": {
   "display_name": "Python [conda env:m1_ih]",
   "language": "python",
   "name": "conda-env-m1_ih-py"
  },
  "language_info": {
   "codemirror_mode": {
    "name": "ipython",
    "version": 3
   },
   "file_extension": ".py",
   "mimetype": "text/x-python",
   "name": "python",
   "nbconvert_exporter": "python",
   "pygments_lexer": "ipython3",
   "version": "3.9.12"
  }
 },
 "nbformat": 4,
 "nbformat_minor": 5
}
