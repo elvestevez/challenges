{
 "cells": [
  {
   "cell_type": "code",
   "execution_count": 4,
   "id": "dc3c51f8",
   "metadata": {},
   "outputs": [],
   "source": [
    "# no he sido capaz de sacarlo con list comprehension grgrgrgr\n",
    "# he visto las soluciones una vez enviada esta\n",
    "\n",
    "def seqlist(first,c,l):\n",
    "    list_new = [first]\n",
    "    for i in range(l-1):\n",
    "        list_new.append(list_new[i]+c)\n",
    "    \n",
    "    return list_new"
   ]
  },
  {
   "cell_type": "code",
   "execution_count": 5,
   "id": "01353e18",
   "metadata": {},
   "outputs": [
    {
     "name": "stdout",
     "output_type": "stream",
     "text": [
      "[0, 1, 2, 3, 4, 5, 6, 7, 8, 9, 10, 11, 12, 13, 14, 15, 16, 17, 18, 19]  - len: 20\n"
     ]
    }
   ],
   "source": [
    "print(seqlist(0,1,20), \" - len:\", len(seqlist(0,1,20))) # [0,1,2,3,4,5,6,7,8,9,10,11,12,13,14,15,16,17,18,19]"
   ]
  },
  {
   "cell_type": "code",
   "execution_count": 6,
   "id": "b99d68ce",
   "metadata": {},
   "outputs": [
    {
     "name": "stdout",
     "output_type": "stream",
     "text": [
      "[5, 10, 15, 20, 25]  - len: 5\n"
     ]
    }
   ],
   "source": [
    "print(seqlist(5,5,5), \" - len:\", len(seqlist(5,5,5))) "
   ]
  },
  {
   "cell_type": "code",
   "execution_count": 7,
   "id": "4b58ef8b",
   "metadata": {},
   "outputs": [
    {
     "name": "stdout",
     "output_type": "stream",
     "text": [
      "[5, 8, 11, 14]  - len: 4\n"
     ]
    }
   ],
   "source": [
    "print(seqlist(5,3,4), \" - len:\", len(seqlist(5,3,4))) "
   ]
  },
  {
   "cell_type": "code",
   "execution_count": 8,
   "id": "33a4fcd1",
   "metadata": {},
   "outputs": [
    {
     "name": "stdout",
     "output_type": "stream",
     "text": [
      "[-1, 1, 3, 5, 7, 9]  - len: 6\n"
     ]
    }
   ],
   "source": [
    "print(seqlist(-1,2,6), \" - len:\", len(seqlist(-1,2,6))) "
   ]
  }
 ],
 "metadata": {
  "kernelspec": {
   "display_name": "Python [conda env:m1_ih]",
   "language": "python",
   "name": "conda-env-m1_ih-py"
  },
  "language_info": {
   "codemirror_mode": {
    "name": "ipython",
    "version": 3
   },
   "file_extension": ".py",
   "mimetype": "text/x-python",
   "name": "python",
   "nbconvert_exporter": "python",
   "pygments_lexer": "ipython3",
   "version": "3.9.12"
  }
 },
 "nbformat": 4,
 "nbformat_minor": 5
}
